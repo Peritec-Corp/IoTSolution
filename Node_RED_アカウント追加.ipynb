{
  "nbformat": 4,
  "nbformat_minor": 0,
  "metadata": {
    "colab": {
      "provenance": [],
      "authorship_tag": "ABX9TyP6+2yI0H9QVmLSvjuRdyjN",
      "include_colab_link": true
    },
    "kernelspec": {
      "name": "python3",
      "display_name": "Python 3"
    },
    "language_info": {
      "name": "python"
    }
  },
  "cells": [
    {
      "cell_type": "markdown",
      "metadata": {
        "id": "view-in-github",
        "colab_type": "text"
      },
      "source": [
        "<a href=\"https://colab.research.google.com/github/Peritec-Corp/IoTSolution/blob/main/Node_RED_%E3%82%A2%E3%82%AB%E3%82%A6%E3%83%B3%E3%83%88%E8%BF%BD%E5%8A%A0.ipynb\" target=\"_parent\"><img src=\"https://colab.research.google.com/assets/colab-badge.svg\" alt=\"Open In Colab\"/></a>"
      ]
    },
    {
      "cell_type": "markdown",
      "source": [
        "# サーバーへのアクセス\n",
        "\n",
        "PCを同じネットワークに接続し、コマンドラインから以下でアクセスできる。\n",
        "```\n",
        "ssh peritec@iotschool\n",
        "```\n",
        "\n",
        "リモートからもアクセスできるようにしているがここでは省略\\\n",
        "以下参照\\\n",
        "(個人ファイル\\takanami\\Setup KVM Server.ipynb パスワード.txt)"
      ],
      "metadata": {
        "id": "z1v_0oER-5Jw"
      }
    },
    {
      "cell_type": "markdown",
      "source": [
        "---\n",
        "# vim について\n",
        "\n",
        "本作業ではvimでファイルを更新するのでそれの最小限の使い方を記録する。\n",
        "\n",
        "vimは insertモードと visualモードがある。\\\n",
        "insertモードの場合は、下側に```-- INSERT --```と表示されている。\\\n",
        "入力は insertモードの時のみ。\n",
        "\n",
        "visualモードでの操作\n",
        "- ```i``` : insertモードに切り替え\n",
        "- ```:wq```：変更を適用して終了\n",
        "- ```:q!```：変更を破棄して終了\n",
        "- ```v``` ->範囲指定-> ```y```：指定した範囲をコピー\n",
        "- ```p```：ペースト\n",
        "- ```h```,```j```,```k```,```l```：カーソル移動\n",
        "\n",
        "insertモードでの操作\n",
        "- ```esc```：visualモードに切り替え"
      ],
      "metadata": {
        "id": "r7ges_UmdFqW"
      }
    },
    {
      "cell_type": "markdown",
      "source": [
        "---\n",
        "# 設定ファイル更新\n",
        "\n",
        "```\n",
        "cd nginx-nr\n",
        "cp -r s01 [新規ユーザー名]\n",
        "vim docker-compose.yml #修正内容は下参照\n",
        "cd nginx\n",
        "vim default.conf #修正内容は下参照\n",
        "cd ../[新規ユーザー名]\n",
        "vim settings.js #修正内容は下参照\n",
        "```\n",
        "※ユーザー名は小文字にする\n",
        "\n",
        "docker-compose.ymlファイルに他のユーザー設定と同じように新規ユーザー情報を追加する。\n",
        "```\n",
        "[新規ユーザー名]:\n",
        "  volumes:\n",
        "    - type: volume\n",
        "      source: data_[新規ユーザー名]\n",
        "      target: /data\n",
        "  build:\n",
        "      context : ./[新規ユーザー名]/\n",
        "      dockerfile: Dockerfile\n",
        "  container_name: [新規ユーザー名]\n",
        "  ports:\n",
        "    - [新規ポート]:[新規ポート]\n",
        "  extra_hosts:\n",
        "    - \"peritec.net:192.168.254.245\"\n",
        "```\n",
        "一番下のvolumesにも追加\n",
        "```\n",
        "data_[新規ユーザー名]\n",
        "```\n",
        "\n",
        "default.confファイルに他のユーザー設定と同じように新規ユーザー情報を追加する。\n",
        "```\n",
        "  location /[新規ユーザー名]/ {\n",
        "    proxy_http_version 1.1;\n",
        "    proxy_set_header Host              $host;\n",
        "    proxy_set_header Upgrade $http_upgrade;\n",
        "    proxy_set_header Connection \"upgrade\";\n",
        "\n",
        "    proxy_pass        http://[新規ユーザー名]:[新規ポート]/;\n",
        "  }\n",
        "```\n",
        "\n",
        "settings.jsファイルを更新する\n",
        "```\n",
        "username: \"[新規ユーザー名]\"\n",
        "password: \"[パスワード文字列]\"\n",
        "```\n",
        "```\n",
        "uiPort: process.env.PORT || [新規ポート],\n",
        "```\n",
        "パスワードの生成は、以下コマンド後にパスワードを入力するとパスワード文字列を生成できる。\n",
        "```\n",
        "node-red admin hash-pw\n",
        "```\n",
        "\n",
        "\n",
        "\n",
        "設定更新後、Dockerを再起動する。\n",
        "```\n",
        "docker compose down --rmi all --volumes --remove-orphans\n",
        "docker compose up -d --build\n",
        "```\n",
        "上記コマンドは省略コマンドも作っている\n",
        "```\n",
        "docker-down\n",
        "docker-up\n",
        "```\n"
      ],
      "metadata": {
        "id": "tL5aihwZ_rcH"
      }
    }
  ]
}